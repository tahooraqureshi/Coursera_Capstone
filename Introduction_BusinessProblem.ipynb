{
 "cells": [
  {
   "cell_type": "markdown",
   "metadata": {},
   "source": [
    "# Capstone Project: The battle of neighbourhoods (week 1)"
   ]
  },
  {
   "cell_type": "markdown",
   "metadata": {},
   "source": [
    "### \"Predicting ideal location for setting up a new supermarket in the city of Mumbai.\""
   ]
  },
  {
   "cell_type": "markdown",
   "metadata": {},
   "source": [
    "#### Introduction/Business Problem"
   ]
  },
  {
   "cell_type": "markdown",
   "metadata": {},
   "source": [
    "**Problem description**: Mumbai city situated in Maharashtra, India is a populous city comprising of nearly 21 million people closely huddled within a meagre 603.4 km² area. The aim of this project is to find a reasonably densely populated area to open up a new supermarket. This would mean that Mumbai City as a whole will be segmented and clustered to meet the desired goal. By leveraging the foursquare location data, each area will be analysed in this process."
   ]
  },
  {
   "cell_type": "markdown",
   "metadata": {},
   "source": [
    "**Background discussion:** Mumbai, also called Bombay, is the capital city of the state of Maharashtra in India, and it's the most populous city in India. As the 4th most populous city in the world and one of the populous urban regions in the world, Mumbai has a metro population of about 20,185,064 in 2019. Mumbai's demographics relate to us that the city is considered a melting pot due to all of the migrants that relocate to the city for employment opportunities. With workforce readily available the major issue to opening up a supermarket is the tiresome process of acquiring large lands; which is a tedious job given the population explosion. Assuming that stakeholders involved have influence, power and funds to readily acquire a piece of land of their choice, this project will help facilitate them to find an optimum location for setting up the supermarket. The key influencing factors would be-\n",
    "1.\tHow populated the area is? A reasonably populated area would mean more client base.\n",
    "2.\tIs there another supermarket in the location of interest? One would definitely want less competition or none at all.\n",
    "3.\tIs the area of interest in plush locality? This will target customers with higher income for a greater profit margin and revenue generation.\n",
    "\n",
    "Keeping the above key points in mind, the exploratory analysis of Mumbai City will be undertaken to affix a suitable location for the said supermarket.\n"
   ]
  },
  {
   "cell_type": "code",
   "execution_count": null,
   "metadata": {},
   "outputs": [],
   "source": []
  }
 ],
 "metadata": {
  "kernelspec": {
   "display_name": "Python 3",
   "language": "python",
   "name": "python3"
  },
  "language_info": {
   "codemirror_mode": {
    "name": "ipython",
    "version": 3
   },
   "file_extension": ".py",
   "mimetype": "text/x-python",
   "name": "python",
   "nbconvert_exporter": "python",
   "pygments_lexer": "ipython3",
   "version": "3.6.8"
  }
 },
 "nbformat": 4,
 "nbformat_minor": 2
}
