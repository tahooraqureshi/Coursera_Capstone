{
 "cells": [
  {
   "cell_type": "markdown",
   "metadata": {},
   "source": [
    "## Capstone Project: The battle of neighbourhoods (week 1)"
   ]
  },
  {
   "cell_type": "markdown",
   "metadata": {},
   "source": [
    "### “Predicting ideal location for setting up a new supermarket in the city of Mumbai”."
   ]
  },
  {
   "cell_type": "markdown",
   "metadata": {},
   "source": [
    "#### Data description and how it will be used to solve the problem:"
   ]
  },
  {
   "cell_type": "markdown",
   "metadata": {},
   "source": [
    "1.\t**Statistical information on Mumbai’s population and its density**. http://worldpopulationreview.com/world-cities/mumbai-population/\n",
    "2.\t**A map rendering detailed classification of population density in Mumbai with key highlights:** Census data reveals that population density varies noticeably from area to area. Small area census data do a better job depicting where the crowded neighborhoods are. In this map, areas of highest density exceed 30,000 persons per square kilometer.  Very high density areas exceed 7,000 persons per square kilometer.  High density areas exceed 5,200 persons per square kilometer. The last categories break at 3,330 persons per square kilometer, and 1,500 persons per square kilometer.\n",
    "https://www.arcgis.com/home/webmap/viewer.html?webmap=d39c316b61364e86918fe566aaccf54e\n",
    "3.\t**A complete list of boroughs and neighbourhoods in Mumbai city:** This data will be used to construct dataset comprising of boroughs, neighbourhoods, latitude and longitude co-ordinates of corresponding neighbourhoods. https://en.wikipedia.org/wiki/List_of_neighbourhoods_in_Mumbai \n",
    "4.\t**Latitude and longitude co-ordinates of various neighbourhoods in Mumbai city:**  This data will be used to construct dataset comprising of boroughs, neighbourhoods, latitude and longitude co-ordinates of corresponding neighbourhoods.\n",
    "https://www.latlong.net/place/mumbai-maharashtra-india-27236.html\n",
    "5.\t**Data pertaining to venues of specific location:** The foursquare location data will be leveraged for all our location data requirements.\n",
    "https://foursquare.com/\n"
   ]
  },
  {
   "cell_type": "code",
   "execution_count": null,
   "metadata": {},
   "outputs": [],
   "source": []
  }
 ],
 "metadata": {
  "kernelspec": {
   "display_name": "Python 3",
   "language": "python",
   "name": "python3"
  },
  "language_info": {
   "codemirror_mode": {
    "name": "ipython",
    "version": 3
   },
   "file_extension": ".py",
   "mimetype": "text/x-python",
   "name": "python",
   "nbconvert_exporter": "python",
   "pygments_lexer": "ipython3",
   "version": "3.6.8"
  }
 },
 "nbformat": 4,
 "nbformat_minor": 2
}
